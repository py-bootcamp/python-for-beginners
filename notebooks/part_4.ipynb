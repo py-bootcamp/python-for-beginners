{
 "cells": [
  {
   "cell_type": "markdown",
   "metadata": {},
   "source": [
    "# Code together and share your code"
   ]
  },
  {
   "cell_type": "markdown",
   "metadata": {},
   "source": [
    "# What is Git"
   ]
  },
  {
   "cell_type": "markdown",
   "metadata": {},
   "source": [
    "![scope resolution](../images/version_control.jpg)"
   ]
  },
  {
   "cell_type": "markdown",
   "metadata": {},
   "source": [
    "A **version control system** is a tool that keeps track of these changes for us and helps us version and merge our files. It allows you to decide which changes make up the next version, called a commit, and keeps useful metadata about them. The complete history of commits for a particular project and their metadata make up a repository. Repositories can be kept in sync across different computers facilitating collaboration among different people.\n",
    "\n",
    "**Git is a VCS (version control system).**\n",
    "\n",
    "With *git* we can avoid the naming mess above, and keep our files named properly, **git** will take care of the rest."
   ]
  },
  {
   "cell_type": "markdown",
   "metadata": {},
   "source": [
    "![scope resolution](../images/git.png)"
   ]
  },
  {
   "cell_type": "markdown",
   "metadata": {},
   "source": [
    "# How to share your code on Github"
   ]
  },
  {
   "cell_type": "markdown",
   "metadata": {},
   "source": [
    "Open your shell/bash and create a new folder called `my_first_git_project`\n",
    "move into that folder and the type:\n",
    "```bash\n",
    "git config --global user.name \"YourName\"\n",
    "git config --global user.email \"EmailYouUsedForGithub\"\n",
    "git init\n",
    "```"
   ]
  },
  {
   "cell_type": "markdown",
   "metadata": {},
   "source": [
    "With the first 2 commands we just set name and email for **git**.\n",
    "\n",
    "The last command initialized a local repository, now you can find a **.git** inside your folder.\n",
    "\n",
    "Now let's create a new file called `app.py`, it can be empty, and then:\n",
    "\n",
    "```shell\n",
    "git status\n",
    "```"
   ]
  },
  {
   "cell_type": "markdown",
   "metadata": {},
   "source": [
    "Do you see your file? Git see that you added a new file."
   ]
  },
  {
   "cell_type": "markdown",
   "metadata": {},
   "source": [
    "```shell\n",
    "git add app.py\n",
    "git commit -m 'my first commit'\n",
    "```"
   ]
  },
  {
   "cell_type": "markdown",
   "metadata": {},
   "source": [
    "With the add command we are telling to **git** we want save this file and with the last command we actually save the file.\n",
    "Until you commit sommething your *changes* are not stored by git.\n",
    "\n",
    "Let's create a new remote repository on Github."
   ]
  },
  {
   "cell_type": "markdown",
   "metadata": {},
   "source": [
    "```shell\n",
    "git remote add origin YourRepo\n",
    "git push origin master\n",
    "```"
   ]
  },
  {
   "cell_type": "markdown",
   "metadata": {},
   "source": [
    "Probably **git** will ask for your email and password, after this if you go on github you should see you repository updated."
   ]
  },
  {
   "cell_type": "markdown",
   "metadata": {},
   "source": [
    "## Pair programming and code review"
   ]
  },
  {
   "cell_type": "markdown",
   "metadata": {},
   "source": [
    "Now we are going to make an experiment.\n",
    "\n",
    "We are going to form groups of 2 people and 1 computer.\n",
    "\n",
    "One of them will have the control over the computer (driver), the other one (navigator) will check, advice, propose.\n",
    "\n",
    "One, the driver, writes code while the other, the observer or navigator, reviews each line of code as it is typed in. The two programmers switch roles frequently."
   ]
  },
  {
   "cell_type": "code",
   "execution_count": null,
   "metadata": {
    "collapsed": true
   },
   "outputs": [],
   "source": []
  }
 ],
 "metadata": {
  "kernelspec": {
   "display_name": "Python 3",
   "language": "python",
   "name": "python3"
  },
  "language_info": {
   "codemirror_mode": {
    "name": "ipython",
    "version": 3
   },
   "file_extension": ".py",
   "mimetype": "text/x-python",
   "name": "python",
   "nbconvert_exporter": "python",
   "pygments_lexer": "ipython3",
   "version": "3.6.2"
  }
 },
 "nbformat": 4,
 "nbformat_minor": 2
}
