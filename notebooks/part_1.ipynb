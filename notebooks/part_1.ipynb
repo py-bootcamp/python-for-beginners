{
 "cells": [
  {
   "cell_type": "markdown",
   "metadata": {},
   "source": [
    "# What is Python?"
   ]
  },
  {
   "cell_type": "markdown",
   "metadata": {},
   "source": [
    "Python is a general purpose programming language that supports rapid development\n",
    "of scripts and applications.\n",
    "\n",
    "Python's main advantages:\n",
    "\n",
    "* Open Source software, supported by Python Software Foundation\n",
    "* Available on all platforms\n",
    "* \"Batteries Included\" philosophy - libraries for common tasks available in\n",
    "  standard installation\n",
    "* Readable\n",
    "* Supports multiple programming paradigms\n",
    "* **Very large and amazing community**\n",
    "\n",
    "Created by Guido van Rossum around 1991."
   ]
  },
  {
   "cell_type": "markdown",
   "metadata": {},
   "source": [
    "### Whad does it mean readable?"
   ]
  },
  {
   "cell_type": "code",
   "execution_count": 1,
   "metadata": {
    "collapsed": true
   },
   "outputs": [],
   "source": [
    "# can you guess what this code is doing?\n",
    "def print_sum(x, y):\n",
    "    z = x + y\n",
    "    print(z)"
   ]
  },
  {
   "cell_type": "markdown",
   "metadata": {},
   "source": [
    "The code is well structured and as you can see we don't use curly brackets ({}) around the code as in other languages.\n",
    "Python uses *indentation*."
   ]
  },
  {
   "cell_type": "markdown",
   "metadata": {},
   "source": [
    "Python is also dynamic, it means that we don't have to declare our variables before using them."
   ]
  },
  {
   "cell_type": "markdown",
   "metadata": {},
   "source": [
    "## Interpreter\n",
    "\n",
    "Python is an interpreted language. As a consequence, we can use it in two ways:\n",
    "\n",
    "* Using interpreter as an \"advanced calculator\" in interactive mode:\n",
    "\n",
    "```python\n",
    "user:host:~$ python\n",
    "Python 3.5.1 (default, Oct 23 2015, 18:05:06)\n",
    "[GCC 4.8.3] on linux2\n",
    "Type \"help\", \"copyright\", \"credits\" or \"license\" for more information.\n",
    ">>> message = \"Hello World\"\n",
    ">>> print(message)\n",
    "Hello World\n",
    "```"
   ]
  },
  {
   "cell_type": "markdown",
   "metadata": {},
   "source": [
    "* Executing programs/scripts saved as a text file, usually with `*.py` extension:\n",
    "\n",
    "Create a file called `hello.py` and put this text inside:\n",
    "```python\n",
    "# Output should be 'Hello there'\n",
    "message = \"Hello World\"\n",
    "print(message)\n",
    "```\n",
    "Then from the terminal (or powershell if you use windows) type:\n",
    "```\n",
    "python hello.py\n",
    "```"
   ]
  },
  {
   "cell_type": "markdown",
   "metadata": {},
   "source": [
    "The `advanced calculator` is called REPL, Read Evaluate Print Loop\n",
    "\n",
    "As you can see the result is the same, we printed the **variable** called message."
   ]
  },
  {
   "cell_type": "markdown",
   "metadata": {
    "collapsed": true
   },
   "source": [
    "# Jupyter"
   ]
  },
  {
   "cell_type": "markdown",
   "metadata": {},
   "source": [
    "## Short story of Jupyter"
   ]
  },
  {
   "cell_type": "markdown",
   "metadata": {},
   "source": [
    "Jupyter is the new name for what once called IPython Notebook.\n",
    "The name has 2 purposes:\n",
    "- underline the strong connection with science and with the first `notebook` wrote by Galileo Galileo in which data and analysis are put together, in the first `notebook` Galileo Galilei was studying Jupiter\n",
    "- The strong connection with 3 languages, Julia, Python and R\n",
    "\n",
    "Jupyter today is a big collection of projects, including Jupyter Notebook, JupyterHub, the new JupyterLab and many others.\n",
    "\n",
    "Jupyter notebook brings an enchanced REPL experience inside your browser, basically you can run Python commands from your browser and Jupyter Notebook will take care of execute them.\n",
    "Under the hood this process is done by the Jupyter Notebook, a communication protocol and a kernel (generally IPython)\n",
    "\n",
    "![jupyter architecture](../images/notebook_components.png)"
   ]
  },
  {
   "cell_type": "markdown",
   "metadata": {},
   "source": [
    "## Why do we use Jupyter?"
   ]
  },
  {
   "cell_type": "markdown",
   "metadata": {},
   "source": [
    "Jupyter provides a convenient platform to learn coding.\n",
    "\n",
    "It uses a browser, something we are all very comfortable with, to edit and run your code.\n",
    "\n",
    "It's also a widely used library inside the Python and Data community."
   ]
  },
  {
   "cell_type": "markdown",
   "metadata": {
    "collapsed": true
   },
   "source": [
    "## How to run and save your code"
   ]
  },
  {
   "cell_type": "markdown",
   "metadata": {},
   "source": [
    "To run jupyter you need to open the terminal/console and type:\n",
    "\n",
    "```bash\n",
    "jupyter-notebook\n",
    "```\n",
    "or\n",
    "\n",
    "```bash\n",
    "jupyter notebook\n",
    "```"
   ]
  },
  {
   "cell_type": "markdown",
   "metadata": {
    "collapsed": true
   },
   "source": [
    "If you have a notebook open you should see a top menu (File, Edit, View...) a series of buttons under it (floppy disk, plus, scissor...)"
   ]
  },
  {
   "cell_type": "markdown",
   "metadata": {},
   "source": [
    "# Challenge"
   ]
  },
  {
   "cell_type": "markdown",
   "metadata": {},
   "source": [
    "Try to use the `advanced calculator` (REPL) if you get stuck in and you want to exit you need to type `exit()` "
   ]
  },
  {
   "cell_type": "markdown",
   "metadata": {},
   "source": [
    "Is there something that surprises you?"
   ]
  }
 ],
 "metadata": {
  "kernelspec": {
   "display_name": "Python 3",
   "language": "python",
   "name": "python3"
  },
  "language_info": {
   "codemirror_mode": {
    "name": "ipython",
    "version": 3
   },
   "file_extension": ".py",
   "mimetype": "text/x-python",
   "name": "python",
   "nbconvert_exporter": "python",
   "pygments_lexer": "ipython3",
   "version": "3.6.2"
  }
 },
 "nbformat": 4,
 "nbformat_minor": 2
}
